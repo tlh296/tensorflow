{
  "nbformat": 4,
  "nbformat_minor": 0,
  "metadata": {
    "colab": {
      "name": "Untitled1.ipynb",
      "provenance": [],
      "collapsed_sections": [],
      "authorship_tag": "ABX9TyP4wLiD79T93kCX7O53k6Hb",
      "include_colab_link": true
    },
    "kernelspec": {
      "name": "python3",
      "display_name": "Python 3"
    },
    "language_info": {
      "name": "python"
    },
    "accelerator": "GPU",
    "gpuClass": "standard"
  },
  "cells": [
    {
      "cell_type": "markdown",
      "metadata": {
        "id": "view-in-github",
        "colab_type": "text"
      },
      "source": [
        "<a href=\"https://colab.research.google.com/github/tlh296/tensorflow/blob/main/AtuoEncode_FNN.ipynb\" target=\"_parent\"><img src=\"https://colab.research.google.com/assets/colab-badge.svg\" alt=\"Open In Colab\"/></a>"
      ]
    },
    {
      "cell_type": "code",
      "execution_count": 2,
      "metadata": {
        "id": "kPMcXCYnNGZf"
      },
      "outputs": [],
      "source": [
        "import tensorflow as tf\n",
        "import numpy as np\n",
        "import pandas as pd\n",
        "from tensorflow.keras.models import Model\n",
        "from tensorflow.keras.datasets import mnist\n",
        "import os \n",
        "os.environ['CUDA_VISIBLE_DEVICES']='1'"
      ]
    },
    {
      "cell_type": "code",
      "source": [
        "(x_train, y_train), (x_test, y_test) = mnist.load_data()\n",
        "#(x_train, y_train), (x_test, y_test) = fashion_mnist.load_data()\n",
        "x_train, x_test = np.array(x_train, np.float32), np.array(x_test, np.float32)\n",
        "\n",
        " #Part4    Normalize images value from [0, 255] to [0, 1]\n",
        "x_train, x_test = x_train / 255., x_test / 255. "
      ],
      "metadata": {
        "colab": {
          "base_uri": "https://localhost:8080/"
        },
        "id": "GFS69B51N2IE",
        "outputId": "38eb1d4f-029d-43c0-e20e-9d2456d19b8d"
      },
      "execution_count": 3,
      "outputs": [
        {
          "output_type": "stream",
          "name": "stdout",
          "text": [
            "Downloading data from https://storage.googleapis.com/tensorflow/tf-keras-datasets/mnist.npz\n",
            "11493376/11490434 [==============================] - 0s 0us/step\n",
            "11501568/11490434 [==============================] - 0s 0us/step\n"
          ]
        }
      ]
    },
    {
      "cell_type": "code",
      "source": [
        "original_dim"
      ],
      "metadata": {
        "colab": {
          "base_uri": "https://localhost:8080/"
        },
        "id": "Wb71l1uVOl9E",
        "outputId": "b05a27a8-e64f-4024-8534-6b1d053b4563"
      },
      "execution_count": 12,
      "outputs": [
        {
          "output_type": "execute_result",
          "data": {
            "text/plain": [
              "28"
            ]
          },
          "metadata": {},
          "execution_count": 12
        }
      ]
    },
    {
      "cell_type": "code",
      "source": [
        "intermediate_dim = 64\n",
        "original_dim = x_train.shape[1]\n",
        "\n",
        "class Encoder(tf.keras.layers.Layer):\n",
        "  def __init__(self, intermediate_dim):\n",
        "    super(Encoder, self).__init__()\n",
        "    self.hidden_layer = tf.keras.layers.Dense(\n",
        "      units=intermediate_dim,\n",
        "      activation=tf.nn.relu,\n",
        "      kernel_initializer='he_uniform'\n",
        "    )\n",
        "    self.output_layer = tf.keras.layers.Dense(\n",
        "      units=intermediate_dim,\n",
        "      activation=tf.nn.sigmoid\n",
        "    )\n",
        "    \n",
        "  def call(self, input_features):\n",
        "    activation = self.hidden_layer(input_features)\n",
        "    return self.output_layer(activation)\n",
        "\n",
        "class Decoder(tf.keras.layers.Layer):\n",
        "  def __init__(self, intermediate_dim, original_dim):\n",
        "    super(Decoder, self).__init__()\n",
        "    self.hidden_layer = tf.keras.layers.Dense(\n",
        "      units=intermediate_dim,\n",
        "      activation=tf.nn.relu,\n",
        "      kernel_initializer='he_uniform'\n",
        "    )\n",
        "    self.output_layer = tf.keras.layers.Dense(\n",
        "      units=original_dim,\n",
        "      activation=tf.nn.sigmoid\n",
        "    )\n",
        "  \n",
        "  def call(self, code):\n",
        "    activation = self.hidden_layer(code)\n",
        "    return self.output_layer(activation)\n",
        "  \n",
        "class Autoencoder(tf.keras.Model):\n",
        "  def __init__(self, intermediate_dim, original_dim):\n",
        "    super(Autoencoder, self).__init__()\n",
        "    self.encoder = Encoder(intermediate_dim=intermediate_dim)\n",
        "    self.decoder = Decoder(intermediate_dim=intermediate_dim,\n",
        "                           original_dim=original_dim)\n",
        "  \n",
        "  def call(self, input_features):\n",
        "    code = self.encoder(input_features)\n",
        "    reconstructed = self.decoder(code)\n",
        "    return reconstructed\n",
        "\n",
        "autoencoder = Autoencoder(\n",
        "  intermediate_dim=intermediate_dim,\n",
        "  original_dim=original_dim\n",
        ")\n"
      ],
      "metadata": {
        "id": "6IGB_V5NQKv5"
      },
      "execution_count": 6,
      "outputs": []
    },
    {
      "cell_type": "code",
      "source": [
        "batch_size = 256\n",
        "\n",
        "autoencoder.compile(optimizer=tf.optimizers.Adam(learning_rate=5e-4),\n",
        "             loss = 'mse')"
      ],
      "metadata": {
        "id": "OvC0Cmy3ODHy"
      },
      "execution_count": 7,
      "outputs": []
    },
    {
      "cell_type": "code",
      "source": [
        "autoencoder.fit(x_train, x_train, epochs=30,\n",
        "              batch_size=batch_size\n",
        "              )"
      ],
      "metadata": {
        "colab": {
          "base_uri": "https://localhost:8080/"
        },
        "id": "ZCPG7y7fOSsq",
        "outputId": "08998ee4-bb26-4233-9d78-c767ea1fb8c7"
      },
      "execution_count": 8,
      "outputs": [
        {
          "output_type": "stream",
          "name": "stdout",
          "text": [
            "Epoch 1/30\n",
            "235/235 [==============================] - 7s 24ms/step - loss: 0.0900\n",
            "Epoch 2/30\n",
            "235/235 [==============================] - 4s 17ms/step - loss: 0.0172\n",
            "Epoch 3/30\n",
            "235/235 [==============================] - 4s 17ms/step - loss: 0.0063\n",
            "Epoch 4/30\n",
            "235/235 [==============================] - 4s 16ms/step - loss: 0.0035\n",
            "Epoch 5/30\n",
            "235/235 [==============================] - 4s 17ms/step - loss: 0.0023\n",
            "Epoch 6/30\n",
            "235/235 [==============================] - 4s 16ms/step - loss: 0.0018\n",
            "Epoch 7/30\n",
            "235/235 [==============================] - 4s 17ms/step - loss: 0.0015\n",
            "Epoch 8/30\n",
            "235/235 [==============================] - 4s 17ms/step - loss: 0.0012\n",
            "Epoch 9/30\n",
            "235/235 [==============================] - 4s 17ms/step - loss: 0.0011\n",
            "Epoch 10/30\n",
            "235/235 [==============================] - 4s 17ms/step - loss: 0.0010\n",
            "Epoch 11/30\n",
            "235/235 [==============================] - 4s 17ms/step - loss: 9.3450e-04\n",
            "Epoch 12/30\n",
            "235/235 [==============================] - 4s 16ms/step - loss: 8.7744e-04\n",
            "Epoch 13/30\n",
            "235/235 [==============================] - 4s 17ms/step - loss: 8.3229e-04\n",
            "Epoch 14/30\n",
            "235/235 [==============================] - 4s 16ms/step - loss: 7.9664e-04\n",
            "Epoch 15/30\n",
            "235/235 [==============================] - 5s 21ms/step - loss: 7.6677e-04\n",
            "Epoch 16/30\n",
            "235/235 [==============================] - 4s 16ms/step - loss: 7.4045e-04\n",
            "Epoch 17/30\n",
            "235/235 [==============================] - 4s 16ms/step - loss: 7.1517e-04\n",
            "Epoch 18/30\n",
            "235/235 [==============================] - 4s 18ms/step - loss: 6.9420e-04\n",
            "Epoch 19/30\n",
            "235/235 [==============================] - 4s 16ms/step - loss: 6.7613e-04\n",
            "Epoch 20/30\n",
            "235/235 [==============================] - 4s 17ms/step - loss: 6.6005e-04\n",
            "Epoch 21/30\n",
            "235/235 [==============================] - 4s 17ms/step - loss: 6.4488e-04\n",
            "Epoch 22/30\n",
            "235/235 [==============================] - 4s 18ms/step - loss: 6.3080e-04\n",
            "Epoch 23/30\n",
            "235/235 [==============================] - 4s 17ms/step - loss: 6.1760e-04\n",
            "Epoch 24/30\n",
            "235/235 [==============================] - 4s 17ms/step - loss: 6.0486e-04\n",
            "Epoch 25/30\n",
            "235/235 [==============================] - 4s 16ms/step - loss: 5.9270e-04\n",
            "Epoch 26/30\n",
            "235/235 [==============================] - 4s 16ms/step - loss: 5.8121e-04\n",
            "Epoch 27/30\n",
            "235/235 [==============================] - 4s 16ms/step - loss: 5.7037e-04\n",
            "Epoch 28/30\n",
            "235/235 [==============================] - 4s 17ms/step - loss: 5.6028e-04\n",
            "Epoch 29/30\n",
            "235/235 [==============================] - 4s 16ms/step - loss: 5.5093e-04\n",
            "Epoch 30/30\n",
            "235/235 [==============================] - 4s 17ms/step - loss: 5.4248e-04\n"
          ]
        },
        {
          "output_type": "execute_result",
          "data": {
            "text/plain": [
              "<keras.callbacks.History at 0x7f591ec92850>"
            ]
          },
          "metadata": {},
          "execution_count": 8
        }
      ]
    },
    {
      "cell_type": "code",
      "source": [
        "import matplotlib.pyplot as plt\n",
        "batch_features = x_test[10:16]\n",
        "reconstructed = autoencoder(tf.constant(batch_features))\n",
        "\n",
        "x_test1 = tf.reshape(batch_features, (batch_features.shape[0], 28, 28))\n",
        "pred = tf.reshape(reconstructed, (batch_features.shape[0], 28, 28))\n",
        "\n",
        "\n",
        "plt.figure(figsize=(10,10))\n",
        "for i in range(5):\n",
        "    plt.subplot(1, 5, i+1)\n",
        "    plt.xticks([]) # to remove x-axis  the [] empty list indicates this\n",
        "    plt.yticks([]) # to remove y-axis\n",
        "    plt.grid(False) # to remove grid\n",
        "    plt.imshow(x_test1[i], cmap='gray') #display the image \n",
        "plt.tight_layout() # to have a proper space in the subplots\n",
        "plt.show()\n",
        "\n",
        "# to visualise reconstructed images(output of autoencoder)\n",
        "plt.figure(figsize=(10,10))\n",
        "for i in range(5):\n",
        "    plt.subplot(1, 5, i+1)\n",
        "    plt.xticks([]) # to remove x-axis  the [] empty list indicates this\n",
        "    plt.yticks([]) # to remove y-axis\n",
        "    plt.grid(False) # to remove grid\n",
        "    plt.imshow(pred[i], cmap='gray') #display the image \n",
        "plt.tight_layout() # to have a proper space in the subplots\n",
        "plt.show()"
      ],
      "metadata": {
        "colab": {
          "base_uri": "https://localhost:8080/",
          "height": 307
        },
        "id": "94W2ahIlRVEV",
        "outputId": "d4c36084-969a-497c-8ac2-2a6c4844e24b"
      },
      "execution_count": 10,
      "outputs": [
        {
          "output_type": "display_data",
          "data": {
            "text/plain": [
              "<Figure size 720x720 with 5 Axes>"
            ],
            "image/png": "[encoded data removed]"
          },
          "metadata": {}
        },
        {
          "output_type": "display_data",
          "data": {
            "text/plain": [
              "<Figure size 720x720 with 5 Axes>"
            ],
            "image/png": "[encoded data removed]"
          },
          "metadata": {}
        }
      ]
    }
  ]
}